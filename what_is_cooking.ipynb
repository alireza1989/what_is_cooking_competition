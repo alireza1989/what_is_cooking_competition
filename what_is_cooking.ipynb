{
 "cells": [
  {
   "cell_type": "markdown",
   "metadata": {},
   "source": [
    "# What's cooking competiton\n",
    "\n",
    "**The competitions** asks to predict the category of a dish's cuisine given a list of its ingredients.\n",
    "\n",
    "\n"
   ]
  },
  {
   "cell_type": "markdown",
   "metadata": {},
   "source": [
    "In the dataset, we include the **recipe id**, **the type of cuisine**, and **the list of ingredients of each recipe** (of variable length). The data is stored in JSON format. \n",
    "\n",
    "#### An example of a recipe node in train.json:\n",
    "\n",
    "```json\n",
    " {\n",
    " \"id\": 24717,\n",
    " \"cuisine\": \"indian\",\n",
    " \"ingredients\": [\n",
    "     \"tumeric\",\n",
    "     \"vegetable stock\",\n",
    "     \"tomatoes\",\n",
    "     \"garam masala\",\n",
    "     \"naan\",\n",
    "     \"red lentils\",\n",
    "     \"red chili peppers\",\n",
    "     \"onions\",\n",
    "     \"spinach\",\n",
    "     \"sweet potatoes\"\n",
    " ]\n",
    " },\n",
    " ```\n",
    " \n",
    "In the test file **test.json**, the format of a recipe is the same as **train.json**, only *the cuisine type* is removed, <font color=red>as it is the target variable you are going to predict.</font>\n",
    "\n",
    "#### File descriptions:\n",
    "\n",
    "**train.json -** the training set containing recipes id, type of cuisine, and list of ingredients\n",
    "\n",
    "**test.json -** the test set containing recipes id, and list of ingredients\n",
    "\n",
    "**sample_submission.csv -** a sample submission file in the correct format\n",
    "In the dataset, we include the recipe id, the type of cuisine, and the list of ingredients of each recipe (of variable length). The data is stored in JSON format. "
   ]
  },
  {
   "cell_type": "markdown",
   "metadata": {},
   "source": [
    "-------"
   ]
  },
  {
   "cell_type": "code",
   "execution_count": 1,
   "metadata": {},
   "outputs": [
    {
     "name": "stderr",
     "output_type": "stream",
     "text": [
      "Using TensorFlow backend.\n"
     ]
    }
   ],
   "source": [
    "# include required libraries\n",
    "import os\n",
    "import sys\n",
    "import data_utils as du\n",
    "import numpy as np\n",
    "from keras.models import Sequential\n",
    "from keras.layers import Dense\n",
    "from sklearn.model_selection import train_test_split"
   ]
  },
  {
   "cell_type": "code",
   "execution_count": 2,
   "metadata": {},
   "outputs": [],
   "source": [
    "# Read the data from files\n",
    "trainingData = du.readJson('./data/train.json')\n",
    "testData = du.readJson('./data/test.json')"
   ]
  },
  {
   "cell_type": "markdown",
   "metadata": {},
   "source": [
    "### Exploring first few rows of each data set"
   ]
  },
  {
   "cell_type": "code",
   "execution_count": 3,
   "metadata": {},
   "outputs": [
    {
     "name": "stdout",
     "output_type": "stream",
     "text": [
      "TRAINING DATA:\n"
     ]
    },
    {
     "data": {
      "text/html": [
       "<div>\n",
       "<style scoped>\n",
       "    .dataframe tbody tr th:only-of-type {\n",
       "        vertical-align: middle;\n",
       "    }\n",
       "\n",
       "    .dataframe tbody tr th {\n",
       "        vertical-align: top;\n",
       "    }\n",
       "\n",
       "    .dataframe thead th {\n",
       "        text-align: right;\n",
       "    }\n",
       "</style>\n",
       "<table border=\"1\" class=\"dataframe\">\n",
       "  <thead>\n",
       "    <tr style=\"text-align: right;\">\n",
       "      <th></th>\n",
       "      <th>cuisine</th>\n",
       "      <th>id</th>\n",
       "      <th>ingredients</th>\n",
       "    </tr>\n",
       "  </thead>\n",
       "  <tbody>\n",
       "    <tr>\n",
       "      <th>0</th>\n",
       "      <td>greek</td>\n",
       "      <td>10259</td>\n",
       "      <td>[romaine lettuce, black olives, grape tomatoes...</td>\n",
       "    </tr>\n",
       "    <tr>\n",
       "      <th>1</th>\n",
       "      <td>southern_us</td>\n",
       "      <td>25693</td>\n",
       "      <td>[plain flour, ground pepper, salt, tomatoes, g...</td>\n",
       "    </tr>\n",
       "    <tr>\n",
       "      <th>2</th>\n",
       "      <td>filipino</td>\n",
       "      <td>20130</td>\n",
       "      <td>[eggs, pepper, salt, mayonaise, cooking oil, g...</td>\n",
       "    </tr>\n",
       "    <tr>\n",
       "      <th>3</th>\n",
       "      <td>indian</td>\n",
       "      <td>22213</td>\n",
       "      <td>[water, vegetable oil, wheat, salt]</td>\n",
       "    </tr>\n",
       "    <tr>\n",
       "      <th>4</th>\n",
       "      <td>indian</td>\n",
       "      <td>13162</td>\n",
       "      <td>[black pepper, shallots, cornflour, cayenne pe...</td>\n",
       "    </tr>\n",
       "  </tbody>\n",
       "</table>\n",
       "</div>"
      ],
      "text/plain": [
       "       cuisine     id                                        ingredients\n",
       "0        greek  10259  [romaine lettuce, black olives, grape tomatoes...\n",
       "1  southern_us  25693  [plain flour, ground pepper, salt, tomatoes, g...\n",
       "2     filipino  20130  [eggs, pepper, salt, mayonaise, cooking oil, g...\n",
       "3       indian  22213                [water, vegetable oil, wheat, salt]\n",
       "4       indian  13162  [black pepper, shallots, cornflour, cayenne pe..."
      ]
     },
     "execution_count": 3,
     "metadata": {},
     "output_type": "execute_result"
    }
   ],
   "source": [
    "print('TRAINING DATA:')\n",
    "trainingData.head()"
   ]
  },
  {
   "cell_type": "code",
   "execution_count": 4,
   "metadata": {},
   "outputs": [
    {
     "name": "stdout",
     "output_type": "stream",
     "text": [
      "TEST DATA:\n"
     ]
    },
    {
     "data": {
      "text/html": [
       "<div>\n",
       "<style scoped>\n",
       "    .dataframe tbody tr th:only-of-type {\n",
       "        vertical-align: middle;\n",
       "    }\n",
       "\n",
       "    .dataframe tbody tr th {\n",
       "        vertical-align: top;\n",
       "    }\n",
       "\n",
       "    .dataframe thead th {\n",
       "        text-align: right;\n",
       "    }\n",
       "</style>\n",
       "<table border=\"1\" class=\"dataframe\">\n",
       "  <thead>\n",
       "    <tr style=\"text-align: right;\">\n",
       "      <th></th>\n",
       "      <th>id</th>\n",
       "      <th>ingredients</th>\n",
       "    </tr>\n",
       "  </thead>\n",
       "  <tbody>\n",
       "    <tr>\n",
       "      <th>0</th>\n",
       "      <td>18009</td>\n",
       "      <td>[baking powder, eggs, all-purpose flour, raisi...</td>\n",
       "    </tr>\n",
       "    <tr>\n",
       "      <th>1</th>\n",
       "      <td>28583</td>\n",
       "      <td>[sugar, egg yolks, corn starch, cream of tarta...</td>\n",
       "    </tr>\n",
       "    <tr>\n",
       "      <th>2</th>\n",
       "      <td>41580</td>\n",
       "      <td>[sausage links, fennel bulb, fronds, olive oil...</td>\n",
       "    </tr>\n",
       "    <tr>\n",
       "      <th>3</th>\n",
       "      <td>29752</td>\n",
       "      <td>[meat cuts, file powder, smoked sausage, okra,...</td>\n",
       "    </tr>\n",
       "    <tr>\n",
       "      <th>4</th>\n",
       "      <td>35687</td>\n",
       "      <td>[ground black pepper, salt, sausage casings, l...</td>\n",
       "    </tr>\n",
       "  </tbody>\n",
       "</table>\n",
       "</div>"
      ],
      "text/plain": [
       "      id                                        ingredients\n",
       "0  18009  [baking powder, eggs, all-purpose flour, raisi...\n",
       "1  28583  [sugar, egg yolks, corn starch, cream of tarta...\n",
       "2  41580  [sausage links, fennel bulb, fronds, olive oil...\n",
       "3  29752  [meat cuts, file powder, smoked sausage, okra,...\n",
       "4  35687  [ground black pepper, salt, sausage casings, l..."
      ]
     },
     "execution_count": 4,
     "metadata": {},
     "output_type": "execute_result"
    }
   ],
   "source": [
    "print('TEST DATA:')\n",
    "testData.head()"
   ]
  },
  {
   "cell_type": "markdown",
   "metadata": {},
   "source": [
    "### Make a Distribution map for ingredients and food types in the training set"
   ]
  },
  {
   "cell_type": "code",
   "execution_count": 5,
   "metadata": {},
   "outputs": [
    {
     "name": "stdout",
     "output_type": "stream",
     "text": [
      "<class 'list'>\n",
      "<class 'str'>\n",
      "Number of cuisines in the data set: 20\n",
      "Number of ingredients in the data set: 6714\n"
     ]
    }
   ],
   "source": [
    "ingredientsColumn = trainingData['ingredients']\n",
    "recipeType = trainingData['cuisine']\n",
    "\n",
    "ingredientsDist = du.dataDistributionMap(ingredientsColumn)\n",
    "cuisineDist = du.dataDistributionMap(recipeType)\n",
    "\n",
    "print ('Number of cuisines in the data set:',len(cuisineDist))\n",
    "print ('Number of ingredients in the data set:',len(ingredientsDist))"
   ]
  },
  {
   "cell_type": "markdown",
   "metadata": {},
   "source": [
    "-------"
   ]
  },
  {
   "cell_type": "markdown",
   "metadata": {},
   "source": [
    "### Prepare and the data to be used as input of a Neural Network ase well as create training and dev data-set\n",
    "\n",
    "1. we need to create input vectors representing each **recipe** and output vectors representing a **cuisine type**.\n",
    "2. XYZ \n",
    "3. XYZ\n",
    "4. XYZ"
   ]
  },
  {
   "cell_type": "markdown",
   "metadata": {},
   "source": [
    "### Prepre the input matrix: "
   ]
  },
  {
   "cell_type": "code",
   "execution_count": 6,
   "metadata": {},
   "outputs": [],
   "source": [
    "# create a map of ingredients\n",
    "w2i, i2w = du.wordsToMap(list(ingredientsDist.keys()))"
   ]
  },
  {
   "cell_type": "code",
   "execution_count": 7,
   "metadata": {},
   "outputs": [
    {
     "data": {
      "text/plain": [
       "65"
      ]
     },
     "execution_count": 7,
     "metadata": {},
     "output_type": "execute_result"
    }
   ],
   "source": [
    "max(len(recipe) for recipe in trainingData['ingredients'])\n"
   ]
  },
  {
   "cell_type": "code",
   "execution_count": 8,
   "metadata": {},
   "outputs": [],
   "source": [
    "# An input matrix with having the ingredients encoded for each recipe and zero padding.\n",
    "# Each row is a recipe in the training set and will be the input of the first layer of NN\n",
    "X = du.convertToInputMatrix(trainingData['ingredients'], w2i)"
   ]
  },
  {
   "cell_type": "markdown",
   "metadata": {},
   "source": [
    "### Sanity Check:"
   ]
  },
  {
   "cell_type": "code",
   "execution_count": 9,
   "metadata": {},
   "outputs": [
    {
     "data": {
      "text/plain": [
       "array([0, 0, 0, ..., 0, 0, 0])"
      ]
     },
     "execution_count": 9,
     "metadata": {},
     "output_type": "execute_result"
    }
   ],
   "source": [
    "X[3]"
   ]
  },
  {
   "cell_type": "code",
   "execution_count": 10,
   "metadata": {},
   "outputs": [
    {
     "data": {
      "text/plain": [
       "['romaine lettuce',\n",
       " 'black olives',\n",
       " 'grape tomatoes',\n",
       " 'garlic',\n",
       " 'pepper',\n",
       " 'purple onion',\n",
       " 'seasoning',\n",
       " 'garbanzo beans',\n",
       " 'feta cheese crumbles']"
      ]
     },
     "execution_count": 10,
     "metadata": {},
     "output_type": "execute_result"
    }
   ],
   "source": [
    "trainingData['ingredients'][0]"
   ]
  },
  {
   "cell_type": "code",
   "execution_count": 11,
   "metadata": {},
   "outputs": [
    {
     "name": "stdout",
     "output_type": "stream",
     "text": [
      "thai basil \n",
      " rice paddy herb \n",
      " crimini mushrooms \n",
      " part-skim mozzarella\n"
     ]
    }
   ],
   "source": [
    "print(i2w[0],\"\\n\",i2w[1], \"\\n\",i2w[2], \"\\n\",i2w[3])"
   ]
  },
  {
   "cell_type": "markdown",
   "metadata": {},
   "source": [
    "### Prepare the expected output matrix:"
   ]
  },
  {
   "cell_type": "code",
   "execution_count": 12,
   "metadata": {},
   "outputs": [],
   "source": [
    "# create a map of index to cuisine  nad cuisine to index\n",
    "c2i, i2c = du.wordsToMap(list(cuisineDist))"
   ]
  },
  {
   "cell_type": "code",
   "execution_count": 13,
   "metadata": {},
   "outputs": [],
   "source": [
    "Y = du.convertToOutputMatrix(trainingData['cuisine'], c2i)"
   ]
  },
  {
   "cell_type": "markdown",
   "metadata": {},
   "source": [
    "### Sanity Check:\n"
   ]
  },
  {
   "cell_type": "code",
   "execution_count": 14,
   "metadata": {},
   "outputs": [
    {
     "data": {
      "text/plain": [
       "array([[0, 0, 1, 0, 0, 0, 0, 0, 0, 0, 0, 0, 0, 0, 0, 0, 0, 0, 0, 0],\n",
       "       [0, 0, 0, 0, 0, 0, 0, 0, 0, 0, 0, 0, 0, 0, 0, 1, 0, 0, 0, 0],\n",
       "       [0, 0, 0, 1, 0, 0, 0, 0, 0, 0, 0, 0, 0, 0, 0, 0, 0, 0, 0, 0],\n",
       "       [0, 0, 0, 0, 0, 0, 0, 0, 0, 0, 0, 0, 0, 0, 0, 0, 0, 0, 0, 1],\n",
       "       [0, 0, 0, 0, 0, 0, 0, 0, 0, 0, 0, 0, 0, 0, 0, 0, 0, 0, 0, 1],\n",
       "       [0, 0, 0, 0, 1, 0, 0, 0, 0, 0, 0, 0, 0, 0, 0, 0, 0, 0, 0, 0],\n",
       "       [0, 0, 0, 0, 0, 0, 0, 0, 0, 0, 0, 0, 0, 0, 0, 0, 0, 1, 0, 0],\n",
       "       [0, 0, 0, 0, 0, 0, 1, 0, 0, 0, 0, 0, 0, 0, 0, 0, 0, 0, 0, 0],\n",
       "       [0, 0, 0, 0, 0, 0, 0, 0, 0, 0, 0, 0, 0, 0, 0, 0, 0, 0, 1, 0],\n",
       "       [0, 0, 0, 0, 0, 0, 1, 0, 0, 0, 0, 0, 0, 0, 0, 0, 0, 0, 0, 0],\n",
       "       [0, 0, 0, 0, 0, 0, 1, 0, 0, 0, 0, 0, 0, 0, 0, 0, 0, 0, 0, 0],\n",
       "       [0, 0, 0, 0, 0, 0, 0, 0, 0, 1, 0, 0, 0, 0, 0, 0, 0, 0, 0, 0],\n",
       "       [0, 0, 0, 0, 0, 0, 1, 0, 0, 0, 0, 0, 0, 0, 0, 0, 0, 0, 0, 0],\n",
       "       [0, 0, 0, 0, 0, 0, 0, 0, 0, 0, 0, 0, 0, 0, 0, 0, 0, 0, 1, 0],\n",
       "       [0, 0, 0, 0, 0, 0, 1, 0, 0, 0, 0, 0, 0, 0, 0, 0, 0, 0, 0, 0],\n",
       "       [0, 0, 0, 0, 0, 0, 0, 0, 0, 0, 0, 0, 0, 0, 0, 0, 0, 0, 0, 1],\n",
       "       [1, 0, 0, 0, 0, 0, 0, 0, 0, 0, 0, 0, 0, 0, 0, 0, 0, 0, 0, 0],\n",
       "       [0, 0, 0, 0, 0, 0, 1, 0, 0, 0, 0, 0, 0, 0, 0, 0, 0, 0, 0, 0],\n",
       "       [0, 0, 0, 0, 0, 0, 0, 0, 0, 0, 0, 0, 0, 0, 1, 0, 0, 0, 0, 0],\n",
       "       [0, 0, 0, 0, 0, 0, 0, 0, 0, 0, 0, 0, 0, 0, 0, 0, 1, 0, 0, 0]])"
      ]
     },
     "execution_count": 14,
     "metadata": {},
     "output_type": "execute_result"
    }
   ],
   "source": [
    "Y[0:20]"
   ]
  },
  {
   "cell_type": "code",
   "execution_count": 15,
   "metadata": {},
   "outputs": [
    {
     "data": {
      "text/plain": [
       "'southern_us'"
      ]
     },
     "execution_count": 15,
     "metadata": {},
     "output_type": "execute_result"
    }
   ],
   "source": [
    "trainingData['cuisine'][1] "
   ]
  },
  {
   "cell_type": "code",
   "execution_count": 16,
   "metadata": {},
   "outputs": [
    {
     "data": {
      "text/plain": [
       "array([0, 0, 0, 0, 0, 0, 0, 0, 0, 0, 0, 0, 0, 0, 0, 1, 0, 0, 0, 0])"
      ]
     },
     "execution_count": 16,
     "metadata": {},
     "output_type": "execute_result"
    }
   ],
   "source": [
    "Y[1]"
   ]
  },
  {
   "cell_type": "code",
   "execution_count": 17,
   "metadata": {},
   "outputs": [
    {
     "name": "stdout",
     "output_type": "stream",
     "text": [
      "15 brazilian\n"
     ]
    }
   ],
   "source": [
    "print(c2i['southern_us'], i2c[1])"
   ]
  },
  {
   "cell_type": "code",
   "execution_count": null,
   "metadata": {},
   "outputs": [],
   "source": []
  },
  {
   "cell_type": "code",
   "execution_count": 18,
   "metadata": {},
   "outputs": [],
   "source": [
    "# split into 85% for train and 15% for test\n",
    "X_train, X_test, Y_train, Y_test = train_test_split(X, Y, test_size=0.15)"
   ]
  },
  {
   "cell_type": "markdown",
   "metadata": {},
   "source": [
    "### Build the model:"
   ]
  },
  {
   "cell_type": "code",
   "execution_count": 19,
   "metadata": {},
   "outputs": [],
   "source": [
    "# create model\n",
    "model = Sequential()\n",
    "model.add(Dense(32, input_dim=6714, activation='relu', kernel_initializer=\"uniform\"))\n",
    "model.add(Dense(44, activation='tanh', kernel_initializer=\"uniform\"))\n",
    "model.add(Dense(32, activation='tanh', kernel_initializer=\"uniform\"))\n",
    "model.add(Dense(32, activation='tanh', kernel_initializer=\"uniform\"))\n",
    "model.add(Dense(25, activation='tanh', kernel_initializer=\"uniform\"))\n",
    "model.add(Dense(20, activation='softmax'))\n",
    "\n",
    "# Compile model\n",
    "model.compile(loss='categorical_crossentropy', optimizer='adam', metrics=['accuracy'])"
   ]
  },
  {
   "cell_type": "code",
   "execution_count": 20,
   "metadata": {
    "scrolled": false
   },
   "outputs": [
    {
     "name": "stdout",
     "output_type": "stream",
     "text": [
      "Epoch 1/150\n",
      "33807/33807 [==============================] - 20s 603us/step - loss: 2.7013 - acc: 0.1942\n",
      "Epoch 2/150\n",
      "33807/33807 [==============================] - 2s 45us/step - loss: 2.2723 - acc: 0.2186\n",
      "Epoch 3/150\n",
      "33807/33807 [==============================] - 2s 54us/step - loss: 2.0206 - acc: 0.2938\n",
      "Epoch 4/150\n",
      "33807/33807 [==============================] - 2s 55us/step - loss: 1.8537 - acc: 0.3585\n",
      "Epoch 5/150\n",
      "33807/33807 [==============================] - 2s 56us/step - loss: 1.7121 - acc: 0.4183\n",
      "Epoch 6/150\n",
      "33807/33807 [==============================] - 2s 53us/step - loss: 1.5748 - acc: 0.4456\n",
      "Epoch 7/150\n",
      "33807/33807 [==============================] - 2s 55us/step - loss: 1.4605 - acc: 0.4928\n",
      "Epoch 8/150\n",
      "33807/33807 [==============================] - 2s 54us/step - loss: 1.3462 - acc: 0.5460\n",
      "Epoch 9/150\n",
      "33807/33807 [==============================] - 2s 54us/step - loss: 1.2208 - acc: 0.5956\n",
      "Epoch 10/150\n",
      "33807/33807 [==============================] - 2s 54us/step - loss: 1.1392 - acc: 0.6256\n",
      "Epoch 11/150\n",
      "33807/33807 [==============================] - 2s 54us/step - loss: 1.0793 - acc: 0.6462\n",
      "Epoch 12/150\n",
      "33807/33807 [==============================] - 2s 55us/step - loss: 1.0212 - acc: 0.6680\n",
      "Epoch 13/150\n",
      "33807/33807 [==============================] - 2s 52us/step - loss: 0.9754 - acc: 0.6847\n",
      "Epoch 14/150\n",
      "33807/33807 [==============================] - 2s 55us/step - loss: 0.9376 - acc: 0.6967\n",
      "Epoch 15/150\n",
      "33807/33807 [==============================] - 2s 55us/step - loss: 0.9039 - acc: 0.7062\n",
      "Epoch 16/150\n",
      "33807/33807 [==============================] - 2s 50us/step - loss: 0.8790 - acc: 0.7122\n",
      "Epoch 17/150\n",
      "33807/33807 [==============================] - 2s 51us/step - loss: 0.8515 - acc: 0.7241\n",
      "Epoch 18/150\n",
      "33807/33807 [==============================] - 2s 52us/step - loss: 0.8235 - acc: 0.7341\n",
      "Epoch 19/150\n",
      "33807/33807 [==============================] - 2s 53us/step - loss: 0.7998 - acc: 0.7434\n",
      "Epoch 20/150\n",
      "33807/33807 [==============================] - 2s 51us/step - loss: 0.7777 - acc: 0.7502\n",
      "Epoch 21/150\n",
      "33807/33807 [==============================] - 2s 53us/step - loss: 0.7618 - acc: 0.7552\n",
      "Epoch 22/150\n",
      "33807/33807 [==============================] - 2s 54us/step - loss: 0.7387 - acc: 0.7647\n",
      "Epoch 23/150\n",
      "33807/33807 [==============================] - 2s 54us/step - loss: 0.7125 - acc: 0.7748\n",
      "Epoch 24/150\n",
      "33807/33807 [==============================] - 2s 56us/step - loss: 0.6964 - acc: 0.7811\n",
      "Epoch 25/150\n",
      "33807/33807 [==============================] - 2s 52us/step - loss: 0.6795 - acc: 0.7868\n",
      "Epoch 26/150\n",
      "33807/33807 [==============================] - 2s 49us/step - loss: 0.6665 - acc: 0.7911\n",
      "Epoch 27/150\n",
      "33807/33807 [==============================] - 2s 52us/step - loss: 0.6503 - acc: 0.7960\n",
      "Epoch 28/150\n",
      "33807/33807 [==============================] - 2s 50us/step - loss: 0.6289 - acc: 0.8040\n",
      "Epoch 29/150\n",
      "33807/33807 [==============================] - 2s 51us/step - loss: 0.6101 - acc: 0.8097\n",
      "Epoch 30/150\n",
      "33807/33807 [==============================] - 2s 52us/step - loss: 0.5910 - acc: 0.8157\n",
      "Epoch 31/150\n",
      "33807/33807 [==============================] - 2s 54us/step - loss: 0.5727 - acc: 0.8201\n",
      "Epoch 32/150\n",
      "33807/33807 [==============================] - 2s 55us/step - loss: 0.5588 - acc: 0.8252\n",
      "Epoch 33/150\n",
      "33807/33807 [==============================] - 2s 56us/step - loss: 0.5454 - acc: 0.8279\n",
      "Epoch 34/150\n",
      "33807/33807 [==============================] - 2s 55us/step - loss: 0.5319 - acc: 0.8328\n",
      "Epoch 35/150\n",
      "33807/33807 [==============================] - 2s 55us/step - loss: 0.5180 - acc: 0.8368\n",
      "Epoch 36/150\n",
      "33807/33807 [==============================] - 2s 56us/step - loss: 0.5073 - acc: 0.8391\n",
      "Epoch 37/150\n",
      "33807/33807 [==============================] - 2s 55us/step - loss: 0.5012 - acc: 0.8406\n",
      "Epoch 38/150\n",
      "33807/33807 [==============================] - 2s 56us/step - loss: 0.4915 - acc: 0.8442\n",
      "Epoch 39/150\n",
      "33807/33807 [==============================] - 2s 55us/step - loss: 0.4799 - acc: 0.8489\n",
      "Epoch 40/150\n",
      "33807/33807 [==============================] - 2s 53us/step - loss: 0.4719 - acc: 0.8535\n",
      "Epoch 41/150\n",
      "33807/33807 [==============================] - 2s 53us/step - loss: 0.4674 - acc: 0.8550\n",
      "Epoch 42/150\n",
      "33807/33807 [==============================] - 2s 54us/step - loss: 0.4627 - acc: 0.8570\n",
      "Epoch 43/150\n",
      "33807/33807 [==============================] - 2s 55us/step - loss: 0.4530 - acc: 0.8604\n",
      "Epoch 44/150\n",
      "33807/33807 [==============================] - 2s 54us/step - loss: 0.4501 - acc: 0.8638\n",
      "Epoch 45/150\n",
      "33807/33807 [==============================] - 2s 54us/step - loss: 0.4411 - acc: 0.8688\n",
      "Epoch 46/150\n",
      "33807/33807 [==============================] - 2s 53us/step - loss: 0.4339 - acc: 0.8708\n",
      "Epoch 47/150\n",
      "33807/33807 [==============================] - 2s 53us/step - loss: 0.4295 - acc: 0.8724\n",
      "Epoch 48/150\n",
      "33807/33807 [==============================] - 2s 55us/step - loss: 0.4227 - acc: 0.8777\n",
      "Epoch 49/150\n",
      "33807/33807 [==============================] - 2s 49us/step - loss: 0.4153 - acc: 0.8797\n",
      "Epoch 50/150\n",
      "33807/33807 [==============================] - 2s 51us/step - loss: 0.4034 - acc: 0.8847\n",
      "Epoch 51/150\n",
      "33807/33807 [==============================] - 2s 52us/step - loss: 0.3983 - acc: 0.8855\n",
      "Epoch 52/150\n",
      "33807/33807 [==============================] - 2s 56us/step - loss: 0.3922 - acc: 0.8877\n",
      "Epoch 53/150\n",
      "33807/33807 [==============================] - 2s 55us/step - loss: 0.3942 - acc: 0.8893\n",
      "Epoch 54/150\n",
      "33807/33807 [==============================] - 2s 55us/step - loss: 0.3878 - acc: 0.8903\n",
      "Epoch 55/150\n",
      "33807/33807 [==============================] - 2s 52us/step - loss: 0.3855 - acc: 0.8906\n",
      "Epoch 56/150\n",
      "33807/33807 [==============================] - 2s 52us/step - loss: 0.3754 - acc: 0.8949\n",
      "Epoch 57/150\n",
      "33807/33807 [==============================] - 2s 53us/step - loss: 0.3659 - acc: 0.8985\n",
      "Epoch 58/150\n",
      "33807/33807 [==============================] - 2s 54us/step - loss: 0.3594 - acc: 0.9026\n",
      "Epoch 59/150\n",
      "33807/33807 [==============================] - 2s 55us/step - loss: 0.3540 - acc: 0.9033\n",
      "Epoch 60/150\n",
      "33807/33807 [==============================] - 2s 52us/step - loss: 0.3417 - acc: 0.9098\n",
      "Epoch 61/150\n",
      "33807/33807 [==============================] - 2s 52us/step - loss: 0.3341 - acc: 0.9124\n",
      "Epoch 62/150\n",
      "33807/33807 [==============================] - 2s 53us/step - loss: 0.3319 - acc: 0.9146\n",
      "Epoch 63/150\n",
      "33807/33807 [==============================] - 2s 55us/step - loss: 0.3346 - acc: 0.9148\n",
      "Epoch 64/150\n",
      "33807/33807 [==============================] - 2s 54us/step - loss: 0.3313 - acc: 0.9163\n",
      "Epoch 65/150\n",
      "33807/33807 [==============================] - 2s 53us/step - loss: 0.3288 - acc: 0.9154\n",
      "Epoch 66/150\n",
      "33807/33807 [==============================] - 2s 53us/step - loss: 0.3286 - acc: 0.9151\n",
      "Epoch 67/150\n",
      "33807/33807 [==============================] - 2s 52us/step - loss: 0.3189 - acc: 0.9181\n",
      "Epoch 68/150\n",
      "33807/33807 [==============================] - 2s 51us/step - loss: 0.3141 - acc: 0.9201\n",
      "Epoch 69/150\n",
      "33807/33807 [==============================] - 2s 54us/step - loss: 0.3110 - acc: 0.9219\n",
      "Epoch 70/150\n",
      "33807/33807 [==============================] - 2s 53us/step - loss: 0.3112 - acc: 0.9224\n",
      "Epoch 71/150\n",
      "33807/33807 [==============================] - 2s 55us/step - loss: 0.3109 - acc: 0.9204\n",
      "Epoch 72/150\n",
      "33807/33807 [==============================] - 2s 56us/step - loss: 0.3056 - acc: 0.9230\n",
      "Epoch 73/150\n",
      "33807/33807 [==============================] - 2s 55us/step - loss: 0.3002 - acc: 0.9250\n",
      "Epoch 74/150\n",
      "33807/33807 [==============================] - 2s 54us/step - loss: 0.2956 - acc: 0.9259\n",
      "Epoch 75/150\n",
      "33807/33807 [==============================] - 2s 55us/step - loss: 0.2889 - acc: 0.9286\n",
      "Epoch 76/150\n",
      "33807/33807 [==============================] - 2s 55us/step - loss: 0.2843 - acc: 0.9310\n",
      "Epoch 77/150\n",
      "33807/33807 [==============================] - 2s 53us/step - loss: 0.2814 - acc: 0.9303\n",
      "Epoch 78/150\n",
      "33807/33807 [==============================] - 2s 54us/step - loss: 0.2808 - acc: 0.9315\n",
      "Epoch 79/150\n",
      "33807/33807 [==============================] - 2s 55us/step - loss: 0.2799 - acc: 0.9302\n",
      "Epoch 80/150\n",
      "33807/33807 [==============================] - 2s 56us/step - loss: 0.2777 - acc: 0.9304\n",
      "Epoch 81/150\n"
     ]
    },
    {
     "name": "stdout",
     "output_type": "stream",
     "text": [
      "33807/33807 [==============================] - 2s 55us/step - loss: 0.2783 - acc: 0.9308\n",
      "Epoch 82/150\n",
      "33807/33807 [==============================] - 2s 50us/step - loss: 0.2747 - acc: 0.9335\n",
      "Epoch 83/150\n",
      "33807/33807 [==============================] - 2s 52us/step - loss: 0.2732 - acc: 0.9328\n",
      "Epoch 84/150\n",
      "33807/33807 [==============================] - 2s 54us/step - loss: 0.2667 - acc: 0.9360\n",
      "Epoch 85/150\n",
      "33807/33807 [==============================] - 2s 55us/step - loss: 0.2634 - acc: 0.9366\n",
      "Epoch 86/150\n",
      "33807/33807 [==============================] - 2s 55us/step - loss: 0.2606 - acc: 0.9369\n",
      "Epoch 87/150\n",
      "33807/33807 [==============================] - 2s 53us/step - loss: 0.2605 - acc: 0.9367\n",
      "Epoch 88/150\n",
      "33807/33807 [==============================] - 2s 55us/step - loss: 0.2573 - acc: 0.9372\n",
      "Epoch 89/150\n",
      "33807/33807 [==============================] - 2s 53us/step - loss: 0.2535 - acc: 0.9389\n",
      "Epoch 90/150\n",
      "33807/33807 [==============================] - 2s 52us/step - loss: 0.2515 - acc: 0.9392\n",
      "Epoch 91/150\n",
      "33807/33807 [==============================] - 2s 52us/step - loss: 0.2463 - acc: 0.9414\n",
      "Epoch 92/150\n",
      "33807/33807 [==============================] - 2s 52us/step - loss: 0.2428 - acc: 0.9427\n",
      "Epoch 93/150\n",
      "33807/33807 [==============================] - 2s 52us/step - loss: 0.2437 - acc: 0.9419\n",
      "Epoch 94/150\n",
      "33807/33807 [==============================] - 2s 53us/step - loss: 0.2437 - acc: 0.9423\n",
      "Epoch 95/150\n",
      "33807/33807 [==============================] - 2s 53us/step - loss: 0.2410 - acc: 0.9435\n",
      "Epoch 96/150\n",
      "33807/33807 [==============================] - 2s 56us/step - loss: 0.2367 - acc: 0.9438\n",
      "Epoch 97/150\n",
      "33807/33807 [==============================] - 2s 54us/step - loss: 0.2397 - acc: 0.9440\n",
      "Epoch 98/150\n",
      "33807/33807 [==============================] - 2s 56us/step - loss: 0.2403 - acc: 0.9441\n",
      "Epoch 99/150\n",
      "33807/33807 [==============================] - 2s 55us/step - loss: 0.2394 - acc: 0.9434\n",
      "Epoch 100/150\n",
      "33807/33807 [==============================] - 2s 53us/step - loss: 0.2370 - acc: 0.9434\n",
      "Epoch 101/150\n",
      "33807/33807 [==============================] - 2s 55us/step - loss: 0.2374 - acc: 0.9434\n",
      "Epoch 102/150\n",
      "33807/33807 [==============================] - 2s 54us/step - loss: 0.2353 - acc: 0.9431\n",
      "Epoch 103/150\n",
      "33807/33807 [==============================] - 2s 55us/step - loss: 0.2334 - acc: 0.9449\n",
      "Epoch 104/150\n",
      "33807/33807 [==============================] - 2s 54us/step - loss: 0.2389 - acc: 0.9433\n",
      "Epoch 105/150\n",
      "33807/33807 [==============================] - 2s 56us/step - loss: 0.2363 - acc: 0.9431\n",
      "Epoch 106/150\n",
      "33807/33807 [==============================] - 2s 53us/step - loss: 0.2336 - acc: 0.9443\n",
      "Epoch 107/150\n",
      "33807/33807 [==============================] - 2s 52us/step - loss: 0.2280 - acc: 0.9467\n",
      "Epoch 108/150\n",
      "33807/33807 [==============================] - 2s 54us/step - loss: 0.2258 - acc: 0.9465\n",
      "Epoch 109/150\n",
      "33807/33807 [==============================] - 2s 54us/step - loss: 0.2261 - acc: 0.9470\n",
      "Epoch 110/150\n",
      "33807/33807 [==============================] - 2s 54us/step - loss: 0.2224 - acc: 0.9476\n",
      "Epoch 111/150\n",
      "33807/33807 [==============================] - 2s 55us/step - loss: 0.2223 - acc: 0.9487\n",
      "Epoch 112/150\n",
      "33807/33807 [==============================] - 2s 56us/step - loss: 0.2164 - acc: 0.9497\n",
      "Epoch 113/150\n",
      "33807/33807 [==============================] - 2s 56us/step - loss: 0.2161 - acc: 0.9500\n",
      "Epoch 114/150\n",
      "33807/33807 [==============================] - 2s 54us/step - loss: 0.2178 - acc: 0.9492\n",
      "Epoch 115/150\n",
      "33807/33807 [==============================] - 2s 54us/step - loss: 0.2220 - acc: 0.9475\n",
      "Epoch 116/150\n",
      "33807/33807 [==============================] - 2s 53us/step - loss: 0.2217 - acc: 0.9477\n",
      "Epoch 117/150\n",
      "33807/33807 [==============================] - 2s 53us/step - loss: 0.2196 - acc: 0.9472\n",
      "Epoch 118/150\n",
      "33807/33807 [==============================] - 2s 55us/step - loss: 0.2201 - acc: 0.9479\n",
      "Epoch 119/150\n",
      "33807/33807 [==============================] - 2s 54us/step - loss: 0.2183 - acc: 0.9485\n",
      "Epoch 120/150\n",
      "33807/33807 [==============================] - 2s 53us/step - loss: 0.2160 - acc: 0.9485\n",
      "Epoch 121/150\n",
      "33807/33807 [==============================] - 2s 55us/step - loss: 0.2134 - acc: 0.9495\n",
      "Epoch 122/150\n",
      "33807/33807 [==============================] - 2s 53us/step - loss: 0.2111 - acc: 0.9503\n",
      "Epoch 123/150\n",
      "33807/33807 [==============================] - 2s 54us/step - loss: 0.2055 - acc: 0.9518\n",
      "Epoch 124/150\n",
      "33807/33807 [==============================] - 2s 54us/step - loss: 0.2014 - acc: 0.9528\n",
      "Epoch 125/150\n",
      "33807/33807 [==============================] - 2s 55us/step - loss: 0.2038 - acc: 0.9528\n",
      "Epoch 126/150\n",
      "33807/33807 [==============================] - 2s 56us/step - loss: 0.2037 - acc: 0.9523\n",
      "Epoch 127/150\n",
      "33807/33807 [==============================] - 2s 52us/step - loss: 0.2035 - acc: 0.9528\n",
      "Epoch 128/150\n",
      "33807/33807 [==============================] - 2s 53us/step - loss: 0.2054 - acc: 0.9507\n",
      "Epoch 129/150\n",
      "33807/33807 [==============================] - 2s 54us/step - loss: 0.2031 - acc: 0.9521\n",
      "Epoch 130/150\n",
      "33807/33807 [==============================] - 2s 54us/step - loss: 0.2027 - acc: 0.9524\n",
      "Epoch 131/150\n",
      "33807/33807 [==============================] - 2s 54us/step - loss: 0.2035 - acc: 0.9527\n",
      "Epoch 132/150\n",
      "33807/33807 [==============================] - 2s 55us/step - loss: 0.2002 - acc: 0.9527\n",
      "Epoch 133/150\n",
      "33807/33807 [==============================] - 2s 54us/step - loss: 0.2015 - acc: 0.9519\n",
      "Epoch 134/150\n",
      "33807/33807 [==============================] - 2s 55us/step - loss: 0.2046 - acc: 0.9513\n",
      "Epoch 135/150\n",
      "33807/33807 [==============================] - 2s 55us/step - loss: 0.2063 - acc: 0.9505\n",
      "Epoch 136/150\n",
      "33807/33807 [==============================] - 2s 56us/step - loss: 0.2037 - acc: 0.9513\n",
      "Epoch 137/150\n",
      "33807/33807 [==============================] - 2s 56us/step - loss: 0.2002 - acc: 0.9525\n",
      "Epoch 138/150\n",
      "33807/33807 [==============================] - 2s 53us/step - loss: 0.1987 - acc: 0.9526: \n",
      "Epoch 139/150\n",
      "33807/33807 [==============================] - 2s 53us/step - loss: 0.1986 - acc: 0.9536\n",
      "Epoch 140/150\n",
      "33807/33807 [==============================] - 2s 54us/step - loss: 0.1981 - acc: 0.9524\n",
      "Epoch 141/150\n",
      "33807/33807 [==============================] - 2s 54us/step - loss: 0.2002 - acc: 0.9516\n",
      "Epoch 142/150\n",
      "33807/33807 [==============================] - 2s 54us/step - loss: 0.1982 - acc: 0.9523\n",
      "Epoch 143/150\n",
      "33807/33807 [==============================] - 2s 53us/step - loss: 0.1962 - acc: 0.9534\n",
      "Epoch 144/150\n",
      "33807/33807 [==============================] - 2s 54us/step - loss: 0.1903 - acc: 0.9550\n",
      "Epoch 145/150\n",
      "33807/33807 [==============================] - 2s 54us/step - loss: 0.1866 - acc: 0.9554\n",
      "Epoch 146/150\n",
      "33807/33807 [==============================] - 2s 53us/step - loss: 0.1845 - acc: 0.9564: 1s - loss: \n",
      "Epoch 147/150\n",
      "33807/33807 [==============================] - 2s 54us/step - loss: 0.1857 - acc: 0.9564\n",
      "Epoch 148/150\n",
      "33807/33807 [==============================] - 2s 55us/step - loss: 0.1881 - acc: 0.9556\n",
      "Epoch 149/150\n",
      "33807/33807 [==============================] - 2s 56us/step - loss: 0.1871 - acc: 0.9557\n",
      "Epoch 150/150\n",
      "33807/33807 [==============================] - 2s 56us/step - loss: 0.1835 - acc: 0.9565\n"
     ]
    },
    {
     "data": {
      "text/plain": [
       "<keras.callbacks.History at 0x7f4a631be908>"
      ]
     },
     "execution_count": 20,
     "metadata": {},
     "output_type": "execute_result"
    }
   ],
   "source": [
    "# Fit the model\n",
    "model.fit(X_train, Y_train, epochs=150, batch_size=500)"
   ]
  },
  {
   "cell_type": "code",
   "execution_count": 21,
   "metadata": {},
   "outputs": [
    {
     "name": "stdout",
     "output_type": "stream",
     "text": [
      "5967/5967 [==============================] - 0s 82us/step\n",
      "\n",
      "acc: 53.46%\n"
     ]
    }
   ],
   "source": [
    "# evaluate the model\n",
    "scores = model.evaluate(X_test, Y_test)\n",
    "print(\"\\n%s: %.2f%%\" % (model.metrics_names[1], scores[1]*100))"
   ]
  },
  {
   "cell_type": "markdown",
   "metadata": {},
   "source": [
    "There is a bias between training and test 95.65% vs 53.46%"
   ]
  }
 ],
 "metadata": {
  "kernelspec": {
   "display_name": "Python 3",
   "language": "python",
   "name": "python3"
  },
  "language_info": {
   "codemirror_mode": {
    "name": "ipython",
    "version": 3
   },
   "file_extension": ".py",
   "mimetype": "text/x-python",
   "name": "python",
   "nbconvert_exporter": "python",
   "pygments_lexer": "ipython3",
   "version": "3.5.2"
  }
 },
 "nbformat": 4,
 "nbformat_minor": 2
}
